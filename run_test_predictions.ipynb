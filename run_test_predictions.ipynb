{
 "cells": [
  {
   "cell_type": "code",
   "execution_count": 1,
   "metadata": {},
   "outputs": [
    {
     "name": "stderr",
     "output_type": "stream",
     "text": [
      "Using TensorFlow backend.\n"
     ]
    }
   ],
   "source": [
    "import pandas as pd\n",
    "from alfabet import model"
   ]
  },
  {
   "cell_type": "code",
   "execution_count": 2,
   "metadata": {},
   "outputs": [],
   "source": [
    "import nfp"
   ]
  },
  {
   "cell_type": "markdown",
   "metadata": {},
   "source": [
    "## Load the test dataset"
   ]
  },
  {
   "cell_type": "code",
   "execution_count": 3,
   "metadata": {},
   "outputs": [
    {
     "data": {
      "text/html": [
       "<div>\n",
       "<style scoped>\n",
       "    .dataframe tbody tr th:only-of-type {\n",
       "        vertical-align: middle;\n",
       "    }\n",
       "\n",
       "    .dataframe tbody tr th {\n",
       "        vertical-align: top;\n",
       "    }\n",
       "\n",
       "    .dataframe thead th {\n",
       "        text-align: right;\n",
       "    }\n",
       "</style>\n",
       "<table border=\"1\" class=\"dataframe\">\n",
       "  <thead>\n",
       "    <tr style=\"text-align: right;\">\n",
       "      <th></th>\n",
       "      <th>molecule</th>\n",
       "      <th>bond_index</th>\n",
       "      <th>fragment1</th>\n",
       "      <th>fragment2</th>\n",
       "      <th>bde</th>\n",
       "      <th>bond_type</th>\n",
       "      <th>delta_stereo</th>\n",
       "    </tr>\n",
       "  </thead>\n",
       "  <tbody>\n",
       "    <tr>\n",
       "      <td>0</td>\n",
       "      <td>C#C/C(C)=C/CNCC</td>\n",
       "      <td>1</td>\n",
       "      <td>[C]#C</td>\n",
       "      <td>C[C]=CCNCC</td>\n",
       "      <td>132.918956</td>\n",
       "      <td>C-C</td>\n",
       "      <td>0.0</td>\n",
       "    </tr>\n",
       "    <tr>\n",
       "      <td>1</td>\n",
       "      <td>C#C/C(C)=C/CNCC</td>\n",
       "      <td>2</td>\n",
       "      <td>C#C/[C]=C/CNCC</td>\n",
       "      <td>[CH3]</td>\n",
       "      <td>90.545156</td>\n",
       "      <td>C-C</td>\n",
       "      <td>0.0</td>\n",
       "    </tr>\n",
       "    <tr>\n",
       "      <td>2</td>\n",
       "      <td>C#C/C(C)=C/CNCC</td>\n",
       "      <td>4</td>\n",
       "      <td>[CH2]NCC</td>\n",
       "      <td>[CH]=C(C)C#C</td>\n",
       "      <td>92.585188</td>\n",
       "      <td>C-C</td>\n",
       "      <td>0.0</td>\n",
       "    </tr>\n",
       "    <tr>\n",
       "      <td>3</td>\n",
       "      <td>C#C/C(C)=C/CNCC</td>\n",
       "      <td>5</td>\n",
       "      <td>C#C/C(C)=C/[CH2]</td>\n",
       "      <td>CC[NH]</td>\n",
       "      <td>62.904012</td>\n",
       "      <td>C-N</td>\n",
       "      <td>0.0</td>\n",
       "    </tr>\n",
       "    <tr>\n",
       "      <td>4</td>\n",
       "      <td>C#C/C(C)=C/CNCC</td>\n",
       "      <td>6</td>\n",
       "      <td>C#C/C(C)=C/C[NH]</td>\n",
       "      <td>[CH2]C</td>\n",
       "      <td>83.992707</td>\n",
       "      <td>C-N</td>\n",
       "      <td>0.0</td>\n",
       "    </tr>\n",
       "  </tbody>\n",
       "</table>\n",
       "</div>"
      ],
      "text/plain": [
       "          molecule  bond_index         fragment1     fragment2         bde  \\\n",
       "0  C#C/C(C)=C/CNCC           1             [C]#C    C[C]=CCNCC  132.918956   \n",
       "1  C#C/C(C)=C/CNCC           2    C#C/[C]=C/CNCC         [CH3]   90.545156   \n",
       "2  C#C/C(C)=C/CNCC           4          [CH2]NCC  [CH]=C(C)C#C   92.585188   \n",
       "3  C#C/C(C)=C/CNCC           5  C#C/C(C)=C/[CH2]        CC[NH]   62.904012   \n",
       "4  C#C/C(C)=C/CNCC           6  C#C/C(C)=C/C[NH]        [CH2]C   83.992707   \n",
       "\n",
       "  bond_type  delta_stereo  \n",
       "0       C-C           0.0  \n",
       "1       C-C           0.0  \n",
       "2       C-C           0.0  \n",
       "3       C-N           0.0  \n",
       "4       C-N           0.0  "
      ]
     },
     "execution_count": 3,
     "metadata": {},
     "output_type": "execute_result"
    }
   ],
   "source": [
    "test_data = pd.read_csv('test_data.csv.gz')\n",
    "test_data.head()"
   ]
  },
  {
   "cell_type": "markdown",
   "metadata": {},
   "source": [
    "In this test dataset and in the alfabet predictions, `bond_index` corresponds to the bond index assinged by RDKit for a molecule with explicit hydrogens"
   ]
  },
  {
   "cell_type": "code",
   "execution_count": 13,
   "metadata": {},
   "outputs": [
    {
     "name": "stdout",
     "output_type": "stream",
     "text": [
      "C-N\n"
     ]
    }
   ],
   "source": [
    "from rdkit import Chem\n",
    "molH = Chem.AddHs(Chem.MolFromSmiles('C#C/C(C)=C/CNCC'))\n",
    "bond = molH.GetBondWithIdx(5)\n",
    "print(f'{bond.GetBeginAtom().GetSymbol()}-{bond.GetEndAtom().GetSymbol()}')"
   ]
  },
  {
   "cell_type": "markdown",
   "metadata": {},
   "source": [
    "Get a list of unique molecules in the test dataset"
   ]
  },
  {
   "cell_type": "code",
   "execution_count": 4,
   "metadata": {},
   "outputs": [
    {
     "data": {
      "text/plain": [
       "array(['C#C/C(C)=C/CNCC', 'C#C/C=C/C(=O)O', 'C#C/C=C/C=C/C=C/C',\n",
       "       'C#C/C=C/COCCCC', 'C#CC#CCCO'], dtype=object)"
      ]
     },
     "execution_count": 4,
     "metadata": {},
     "output_type": "execute_result"
    }
   ],
   "source": [
    "test_molecules = test_data.molecule.unique()\n",
    "test_molecules[:5]"
   ]
  },
  {
   "cell_type": "markdown",
   "metadata": {},
   "source": [
    "`model.predict(...)` expects a list-like object of SMILES strings. The longest part of the calculation is breaking the bonds in the molecule and generating radical SMILES, which uses the `joblib` library to parallelize these calculations across multiple cores"
   ]
  },
  {
   "cell_type": "code",
   "execution_count": 5,
   "metadata": {},
   "outputs": [],
   "source": [
    "alfabet_predictions = model.predict(test_molecules, verbose=False)"
   ]
  },
  {
   "cell_type": "code",
   "execution_count": 6,
   "metadata": {},
   "outputs": [
    {
     "data": {
      "text/html": [
       "<div>\n",
       "<style scoped>\n",
       "    .dataframe tbody tr th:only-of-type {\n",
       "        vertical-align: middle;\n",
       "    }\n",
       "\n",
       "    .dataframe tbody tr th {\n",
       "        vertical-align: top;\n",
       "    }\n",
       "\n",
       "    .dataframe thead th {\n",
       "        text-align: right;\n",
       "    }\n",
       "</style>\n",
       "<table border=\"1\" class=\"dataframe\">\n",
       "  <thead>\n",
       "    <tr style=\"text-align: right;\">\n",
       "      <th></th>\n",
       "      <th>molecule</th>\n",
       "      <th>bond_index</th>\n",
       "      <th>bond_type</th>\n",
       "      <th>fragment1</th>\n",
       "      <th>fragment2</th>\n",
       "      <th>delta_assigned_stereo</th>\n",
       "      <th>delta_unassigned_stereo</th>\n",
       "      <th>bde_pred</th>\n",
       "      <th>is_valid</th>\n",
       "    </tr>\n",
       "  </thead>\n",
       "  <tbody>\n",
       "    <tr>\n",
       "      <td>0</td>\n",
       "      <td>C#C/C(C)=C/CNCC</td>\n",
       "      <td>1</td>\n",
       "      <td>C-C</td>\n",
       "      <td>[C]#C</td>\n",
       "      <td>C[C]=CCNCC</td>\n",
       "      <td>0</td>\n",
       "      <td>0</td>\n",
       "      <td>132.957993</td>\n",
       "      <td>True</td>\n",
       "    </tr>\n",
       "    <tr>\n",
       "      <td>1</td>\n",
       "      <td>C#C/C(C)=C/CNCC</td>\n",
       "      <td>2</td>\n",
       "      <td>C-C</td>\n",
       "      <td>C#C/[C]=C/CNCC</td>\n",
       "      <td>[CH3]</td>\n",
       "      <td>0</td>\n",
       "      <td>0</td>\n",
       "      <td>90.212402</td>\n",
       "      <td>True</td>\n",
       "    </tr>\n",
       "    <tr>\n",
       "      <td>2</td>\n",
       "      <td>C#C/C(C)=C/CNCC</td>\n",
       "      <td>4</td>\n",
       "      <td>C-C</td>\n",
       "      <td>[CH2]NCC</td>\n",
       "      <td>[CH]=C(C)C#C</td>\n",
       "      <td>0</td>\n",
       "      <td>0</td>\n",
       "      <td>92.262215</td>\n",
       "      <td>True</td>\n",
       "    </tr>\n",
       "    <tr>\n",
       "      <td>3</td>\n",
       "      <td>C#C/C(C)=C/CNCC</td>\n",
       "      <td>5</td>\n",
       "      <td>C-N</td>\n",
       "      <td>C#C/C(C)=C/[CH2]</td>\n",
       "      <td>CC[NH]</td>\n",
       "      <td>0</td>\n",
       "      <td>0</td>\n",
       "      <td>62.995834</td>\n",
       "      <td>True</td>\n",
       "    </tr>\n",
       "    <tr>\n",
       "      <td>4</td>\n",
       "      <td>C#C/C(C)=C/CNCC</td>\n",
       "      <td>6</td>\n",
       "      <td>C-N</td>\n",
       "      <td>C#C/C(C)=C/C[NH]</td>\n",
       "      <td>[CH2]C</td>\n",
       "      <td>0</td>\n",
       "      <td>0</td>\n",
       "      <td>84.394958</td>\n",
       "      <td>True</td>\n",
       "    </tr>\n",
       "  </tbody>\n",
       "</table>\n",
       "</div>"
      ],
      "text/plain": [
       "          molecule  bond_index bond_type         fragment1     fragment2  \\\n",
       "0  C#C/C(C)=C/CNCC           1       C-C             [C]#C    C[C]=CCNCC   \n",
       "1  C#C/C(C)=C/CNCC           2       C-C    C#C/[C]=C/CNCC         [CH3]   \n",
       "2  C#C/C(C)=C/CNCC           4       C-C          [CH2]NCC  [CH]=C(C)C#C   \n",
       "3  C#C/C(C)=C/CNCC           5       C-N  C#C/C(C)=C/[CH2]        CC[NH]   \n",
       "4  C#C/C(C)=C/CNCC           6       C-N  C#C/C(C)=C/C[NH]        [CH2]C   \n",
       "\n",
       "   delta_assigned_stereo  delta_unassigned_stereo    bde_pred  is_valid  \n",
       "0                      0                        0  132.957993      True  \n",
       "1                      0                        0   90.212402      True  \n",
       "2                      0                        0   92.262215      True  \n",
       "3                      0                        0   62.995834      True  \n",
       "4                      0                        0   84.394958      True  "
      ]
     },
     "execution_count": 6,
     "metadata": {},
     "output_type": "execute_result"
    }
   ],
   "source": [
    "alfabet_predictions.head()"
   ]
  },
  {
   "cell_type": "markdown",
   "metadata": {},
   "source": [
    "Assert that the input molecules fall within the model's domain of validity."
   ]
  },
  {
   "cell_type": "code",
   "execution_count": 7,
   "metadata": {},
   "outputs": [
    {
     "data": {
      "text/plain": [
       "True"
      ]
     },
     "execution_count": 7,
     "metadata": {},
     "output_type": "execute_result"
    }
   ],
   "source": [
    "alfabet_predictions.is_valid.all()"
   ]
  },
  {
   "cell_type": "markdown",
   "metadata": {},
   "source": [
    "Merge the test data and model predictions"
   ]
  },
  {
   "cell_type": "code",
   "execution_count": 8,
   "metadata": {},
   "outputs": [],
   "source": [
    "merged_predictions = test_data.merge(\n",
    "    alfabet_predictions, on=['molecule', 'fragment1', 'fragment2'], how='left')"
   ]
  },
  {
   "cell_type": "markdown",
   "metadata": {},
   "source": [
    "Calculate the MAE in kcal/mol"
   ]
  },
  {
   "cell_type": "code",
   "execution_count": 9,
   "metadata": {},
   "outputs": [
    {
     "data": {
      "text/plain": [
       "0.5975915681620032"
      ]
     },
     "execution_count": 9,
     "metadata": {},
     "output_type": "execute_result"
    }
   ],
   "source": [
    "(merged_predictions.bde - merged_predictions.bde_pred).abs().mean()"
   ]
  }
 ],
 "metadata": {
  "kernelspec": {
   "display_name": "Python 3",
   "language": "python",
   "name": "python3"
  },
  "language_info": {
   "codemirror_mode": {
    "name": "ipython",
    "version": 3
   },
   "file_extension": ".py",
   "mimetype": "text/x-python",
   "name": "python",
   "nbconvert_exporter": "python",
   "pygments_lexer": "ipython3",
   "version": "3.7.4"
  }
 },
 "nbformat": 4,
 "nbformat_minor": 2
}
